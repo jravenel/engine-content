{
 "cells": [
  {
   "cell_type": "markdown",
   "id": "injured-evolution",
   "metadata": {
    "papermill": {},
    "tags": []
   },
   "source": [
    "<img width=\"10%\" alt=\"Naas\" src=\"https://landen.imgix.net/jtci2pxwjczr/assets/5ice39g4.png?w=160\"/>"
   ]
  },
  {
   "cell_type": "markdown",
   "id": "substantial-decline",
   "metadata": {
    "papermill": {},
    "tags": []
   },
   "source": [
    "# Settings"
   ]
  },
  {
   "cell_type": "markdown",
   "id": "d288008a-adf4-47e8-acf5-55a0d2f9ae4e",
   "metadata": {},
   "source": [
    "<div class=\"alert alert-success\" role=\"info\">\n",
    "    <p><b>Note:</b> this data product framework is developed by Naas open source community. You can <a href=\"https://github.com/sponsors/jupyter-naas\" target=\"_blank\">sponsor us</a> if you find it usefull.\n",
    "</p>\n",
    "</div>"
   ]
  },
  {
   "cell_type": "markdown",
   "id": "dd3d4d6a-f15d-47f9-83ac-4208edf13bf9",
   "metadata": {
    "tags": []
   },
   "source": [
    "This notebook allows you to configure and run your data product on your Naas server. *Create an account on [Naas.ai](https://www.naas.ai/free-forever) if you don't already have one.*\n",
    "\n",
    "Please follow the step below to setup this data product."
   ]
  },
  {
   "cell_type": "markdown",
   "id": "80056fe3-734f-41fe-8709-6838316e2f89",
   "metadata": {},
   "source": [
    "## Input"
   ]
  },
  {
   "cell_type": "markdown",
   "id": "4df006e1-c200-4a11-9b37-473864001e67",
   "metadata": {},
   "source": [
    "### Install requirements\n",
    "Install the packages required to run the product."
   ]
  },
  {
   "cell_type": "code",
   "execution_count": 1,
   "id": "d7e9b5d5-36ff-4ba2-bce8-253367a73949",
   "metadata": {
    "execution": {
     "iopub.execute_input": "2023-08-15T09:27:59.873982Z",
     "iopub.status.busy": "2023-08-15T09:27:59.873501Z",
     "iopub.status.idle": "2023-08-15T09:28:05.027511Z",
     "shell.execute_reply": "2023-08-15T09:28:05.026591Z",
     "shell.execute_reply.started": "2023-08-15T09:27:59.873905Z"
    },
    "tags": []
   },
   "outputs": [
    {
     "name": "stdout",
     "output_type": "stream",
     "text": [
      "Requirement already satisfied: naas_data_product in /home/ftp/.local/lib/python3.9/site-packages (from -r requirements.txt (line 1)) (0.1.8)\n",
      "Requirement already satisfied: pyvis==0.2.1 in /home/ftp/.local/lib/python3.9/site-packages (from -r requirements.txt (line 2)) (0.2.1)\n",
      "Requirement already satisfied: jsonpickle>=1.4.1 in /opt/conda/lib/python3.9/site-packages (from pyvis==0.2.1->-r requirements.txt (line 2)) (3.0.1)\n",
      "Requirement already satisfied: ipython>=5.3.0 in /opt/conda/lib/python3.9/site-packages (from pyvis==0.2.1->-r requirements.txt (line 2)) (7.23.1)\n",
      "Requirement already satisfied: networkx>=1.11 in /opt/conda/lib/python3.9/site-packages (from pyvis==0.2.1->-r requirements.txt (line 2)) (3.1)\n",
      "Requirement already satisfied: jinja2>=2.9.6 in /opt/conda/lib/python3.9/site-packages (from pyvis==0.2.1->-r requirements.txt (line 2)) (3.0.3)\n",
      "Requirement already satisfied: setuptools>=18.5 in /opt/conda/lib/python3.9/site-packages (from ipython>=5.3.0->pyvis==0.2.1->-r requirements.txt (line 2)) (49.6.0.post20210108)\n",
      "Requirement already satisfied: pexpect>4.3 in /opt/conda/lib/python3.9/site-packages (from ipython>=5.3.0->pyvis==0.2.1->-r requirements.txt (line 2)) (4.8.0)\n",
      "Requirement already satisfied: matplotlib-inline in /opt/conda/lib/python3.9/site-packages (from ipython>=5.3.0->pyvis==0.2.1->-r requirements.txt (line 2)) (0.1.2)\n",
      "Requirement already satisfied: decorator in /opt/conda/lib/python3.9/site-packages (from ipython>=5.3.0->pyvis==0.2.1->-r requirements.txt (line 2)) (5.0.9)\n",
      "Requirement already satisfied: jedi>=0.16 in /opt/conda/lib/python3.9/site-packages (from ipython>=5.3.0->pyvis==0.2.1->-r requirements.txt (line 2)) (0.18.0)\n",
      "Requirement already satisfied: prompt-toolkit!=3.0.0,!=3.0.1,<3.1.0,>=2.0.0 in /opt/conda/lib/python3.9/site-packages (from ipython>=5.3.0->pyvis==0.2.1->-r requirements.txt (line 2)) (3.0.19)\n",
      "Requirement already satisfied: pygments in /opt/conda/lib/python3.9/site-packages (from ipython>=5.3.0->pyvis==0.2.1->-r requirements.txt (line 2)) (2.9.0)\n",
      "Requirement already satisfied: pickleshare in /opt/conda/lib/python3.9/site-packages (from ipython>=5.3.0->pyvis==0.2.1->-r requirements.txt (line 2)) (0.7.5)\n",
      "Requirement already satisfied: backcall in /opt/conda/lib/python3.9/site-packages (from ipython>=5.3.0->pyvis==0.2.1->-r requirements.txt (line 2)) (0.2.0)\n",
      "Requirement already satisfied: traitlets>=4.2 in /opt/conda/lib/python3.9/site-packages (from ipython>=5.3.0->pyvis==0.2.1->-r requirements.txt (line 2)) (5.0.5)\n",
      "Requirement already satisfied: MarkupSafe>=2.0 in /home/ftp/.local/lib/python3.9/site-packages (from jinja2>=2.9.6->pyvis==0.2.1->-r requirements.txt (line 2)) (2.1.3)\n",
      "Requirement already satisfied: parso<0.9.0,>=0.8.0 in /opt/conda/lib/python3.9/site-packages (from jedi>=0.16->ipython>=5.3.0->pyvis==0.2.1->-r requirements.txt (line 2)) (0.8.2)\n",
      "Requirement already satisfied: ptyprocess>=0.5 in /opt/conda/lib/python3.9/site-packages (from pexpect>4.3->ipython>=5.3.0->pyvis==0.2.1->-r requirements.txt (line 2)) (0.7.0)\n",
      "Requirement already satisfied: wcwidth in /opt/conda/lib/python3.9/site-packages (from prompt-toolkit!=3.0.0,!=3.0.1,<3.1.0,>=2.0.0->ipython>=5.3.0->pyvis==0.2.1->-r requirements.txt (line 2)) (0.2.5)\n",
      "Requirement already satisfied: ipython-genutils in /opt/conda/lib/python3.9/site-packages (from traitlets>=4.2->ipython>=5.3.0->pyvis==0.2.1->-r requirements.txt (line 2)) (0.2.0)\n",
      "\u001b[33mWARNING: You are using pip version 22.0.3; however, version 23.2.1 is available.\n",
      "You should consider upgrading via the '/opt/conda/bin/python3 -m pip install --upgrade pip' command.\u001b[0m\u001b[33m\n",
      "\u001b[0m"
     ]
    }
   ],
   "source": [
    "!pip install --user --upgrade -r \"requirements.txt\""
   ]
  },
  {
   "cell_type": "markdown",
   "id": "d3bba624-afe5-484b-a5d3-0d4bf7dd019c",
   "metadata": {},
   "source": [
    "### Import libraries"
   ]
  },
  {
   "cell_type": "code",
   "execution_count": 2,
   "id": "21d997a6-cfee-468d-8009-53657d604ae7",
   "metadata": {
    "execution": {
     "iopub.execute_input": "2023-08-15T09:28:05.032447Z",
     "iopub.status.busy": "2023-08-15T09:28:05.032186Z",
     "iopub.status.idle": "2023-08-15T09:28:07.866888Z",
     "shell.execute_reply": "2023-08-15T09:28:07.865791Z",
     "shell.execute_reply.started": "2023-08-15T09:28:05.032413Z"
    },
    "tags": []
   },
   "outputs": [
    {
     "name": "stdout",
     "output_type": "stream",
     "text": [
      "✅ Demo loaded successfully.\n",
      "✅ utils file '/home/ftp/engine-content/utils/demo.ipynb' successfully loaded.\n",
      "✅ utils file '/home/ftp/engine-content/utils/naas.ipynb' successfully loaded.\n"
     ]
    }
   ],
   "source": [
    "import naas\n",
    "import glob"
   ]
  },
  {
   "cell_type": "markdown",
   "id": "7e4860ba-61b0-4dc7-b290-3ba30b328b6b",
   "metadata": {},
   "source": [
    "### Setup Variables\n",
    "- `pipeline_path`: pipeline path\n",
    "- `cron`: cron params for naas scheduler"
   ]
  },
  {
   "cell_type": "code",
   "execution_count": 3,
   "id": "6ef71640-f789-4331-bba1-b5def9d6920c",
   "metadata": {
    "execution": {
     "iopub.execute_input": "2023-08-15T09:28:07.868200Z",
     "iopub.status.busy": "2023-08-15T09:28:07.867961Z",
     "iopub.status.idle": "2023-08-15T09:28:07.871387Z",
     "shell.execute_reply": "2023-08-15T09:28:07.870702Z",
     "shell.execute_reply.started": "2023-08-15T09:28:07.868170Z"
    },
    "tags": []
   },
   "outputs": [],
   "source": [
    "pipeline_path = \"models/__pipeline__.ipynb\"\n",
    "cron = \"*/5 * * * *\""
   ]
  },
  {
   "cell_type": "markdown",
   "id": "2ebb82c4-a40a-496e-a1fd-2c04e39455bd",
   "metadata": {},
   "source": [
    "## Model"
   ]
  },
  {
   "cell_type": "markdown",
   "id": "5bc270c0-60e5-479b-97fc-06e11feaadcb",
   "metadata": {},
   "source": [
    "### Push dependencies to production folder"
   ]
  },
  {
   "cell_type": "code",
   "execution_count": 4,
   "id": "ea9dfb8a-675c-4fc2-973b-f1b6fcbb9f04",
   "metadata": {
    "execution": {
     "iopub.execute_input": "2023-08-15T09:28:07.872700Z",
     "iopub.status.busy": "2023-08-15T09:28:07.872464Z",
     "iopub.status.idle": "2023-08-15T09:28:10.219224Z",
     "shell.execute_reply": "2023-08-15T09:28:10.218478Z",
     "shell.execute_reply.started": "2023-08-15T09:28:07.872671Z"
    },
    "tags": []
   },
   "outputs": [
    {
     "name": "stdout",
     "output_type": "stream",
     "text": [
      "👌 Well done! Your Dependency /home/ftp/engine-content/utils/demo.ipynb has been sent to production. \n",
      "\n",
      "PS: to remove the \"Dependency\" feature, just replace .add by .delete\n",
      "👌 Well done! Your Dependency /home/ftp/engine-content/utils/naas.ipynb has been sent to production. \n",
      "\n",
      "PS: to remove the \"Dependency\" feature, just replace .add by .delete\n",
      "👌 Well done! Your Dependency /home/ftp/engine-content/models/LinkedIn_Send_content_engagement_metrics_by_email.ipynb has been sent to production. \n",
      "\n",
      "PS: to remove the \"Dependency\" feature, just replace .add by .delete\n",
      "👌 Well done! Your Dependency /home/ftp/engine-content/models/__pipeline__.ipynb has been sent to production. \n",
      "\n",
      "PS: to remove the \"Dependency\" feature, just replace .add by .delete\n"
     ]
    }
   ],
   "source": [
    "utils = glob.glob(\"utils/*.ipynb\", recursive=True)\n",
    "models = glob.glob(\"models/*.ipynb\", recursive=True)\n",
    "dependencies = utils + models\n",
    "for dependency in dependencies:\n",
    "    naas.dependency.add(dependency)"
   ]
  },
  {
   "cell_type": "markdown",
   "id": "486ca79e-21af-47c8-ae9a-1c4d1d7cf310",
   "metadata": {},
   "source": [
    "## Output"
   ]
  },
  {
   "cell_type": "markdown",
   "id": "2373f75e-9c82-4a1d-a0df-3bc5cf3788e8",
   "metadata": {},
   "source": [
    "### Send data product to production"
   ]
  },
  {
   "cell_type": "code",
   "execution_count": 5,
   "id": "db6ac468-b33e-499f-a87b-16827d0a5beb",
   "metadata": {
    "execution": {
     "iopub.execute_input": "2023-08-15T09:28:10.220596Z",
     "iopub.status.busy": "2023-08-15T09:28:10.220342Z",
     "iopub.status.idle": "2023-08-15T09:28:10.804953Z",
     "shell.execute_reply": "2023-08-15T09:28:10.804226Z",
     "shell.execute_reply.started": "2023-08-15T09:28:10.220562Z"
    },
    "tags": []
   },
   "outputs": [
    {
     "name": "stdout",
     "output_type": "stream",
     "text": [
      "👌 Well done! Your Notebook has been sent to production.\n",
      "\n",
      "⏰ It will be scheduled \"*/5 * * * *\" (more on the syntax on https://crontab.guru/).\n",
      "\n",
      "Ps: to remove the \"Scheduler\", just replace .add by .delete\n"
     ]
    }
   ],
   "source": [
    "#naas.scheduler.add(pipeline_path, cron=cron)"
   ]
  },
  {
   "cell_type": "markdown",
   "id": "b734b1ff-7c8d-4769-9e2b-c2dbd80983b8",
   "metadata": {},
   "source": [
    "### Delete data product from production"
   ]
  },
  {
   "cell_type": "code",
   "execution_count": 8,
   "id": "6b88227c-0614-4b51-bdd6-aaf830c7b499",
   "metadata": {
    "execution": {
     "iopub.execute_input": "2023-08-15T09:44:00.075381Z",
     "iopub.status.busy": "2023-08-15T09:44:00.075134Z",
     "iopub.status.idle": "2023-08-15T09:44:01.549488Z",
     "shell.execute_reply": "2023-08-15T09:44:01.548373Z",
     "shell.execute_reply.started": "2023-08-15T09:44:00.075356Z"
    },
    "tags": []
   },
   "outputs": [
    {
     "name": "stdout",
     "output_type": "stream",
     "text": [
      "🗑 Done! Your Scheduler has been remove from production.\n",
      "\n",
      "🕣 Your file engine-content/models/20230815112528466674_____pipeline__.ipynb has been remove from production.\n",
      "\n",
      "🕣 Your file engine-content/models/20230815114156504923___output____pipeline__.ipynb has been remove from production.\n",
      "\n",
      "🕣 Your file engine-content/models/__pipeline__.ipynb has been remove from production.\n",
      "\n",
      "🕣 Your file engine-content/models/20230815112733303254_____pipeline__.ipynb has been remove from production.\n",
      "\n",
      "🕣 Your file engine-content/models/output____pipeline__.ipynb has been remove from production.\n",
      "\n",
      "🕣 Your file engine-content/models/20230815112810411343_____pipeline__.ipynb has been remove from production.\n",
      "\n",
      "🕣 Your file engine-content/models/20230815113151625924___output____pipeline__.ipynb has been remove from production.\n",
      "\n",
      "🕣 Your file engine-content/models/20230815112733788663_____pipeline__.ipynb has been remove from production.\n",
      "\n",
      "🕣 Your file engine-content/models/20230815112809876269_____pipeline__.ipynb has been remove from production.\n",
      "\n"
     ]
    }
   ],
   "source": [
    "#import naas\n",
    "#naas.scheduler.delete(pipeline_path)"
   ]
  },
  {
   "cell_type": "code",
   "execution_count": null,
   "id": "3f4dc27a-960a-4b9c-9a95-8d09b233f205",
   "metadata": {},
   "outputs": [],
   "source": []
  }
 ],
 "metadata": {
  "kernelspec": {
   "display_name": "Python 3",
   "language": "python",
   "name": "python3"
  },
  "language_info": {
   "codemirror_mode": {
    "name": "ipython",
    "version": 3
   },
   "file_extension": ".py",
   "mimetype": "text/x-python",
   "name": "python",
   "nbconvert_exporter": "python",
   "pygments_lexer": "ipython3",
   "version": "3.9.6"
  },
  "naas": {
   "notebook_id": "77b7f93a-fb2a-483e-b98b-80735e426a64",
   "notebook_path": "Naas/Naas_Secret_demo.ipynb"
  },
  "papermill": {
   "default_parameters": {},
   "environment_variables": {},
   "parameters": {},
   "version": "2.3.3"
  },
  "toc-autonumbering": false,
  "widgets": {
   "application/vnd.jupyter.widget-state+json": {
    "state": {},
    "version_major": 2,
    "version_minor": 0
   }
  }
 },
 "nbformat": 4,
 "nbformat_minor": 5
}
